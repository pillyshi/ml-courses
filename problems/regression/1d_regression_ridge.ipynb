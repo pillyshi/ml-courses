{
 "cells": [
  {
   "cell_type": "markdown",
   "metadata": {},
   "source": [
    "以下では一次元の「回帰」，特に線形モデルを使う「線形回帰」という問題を解く．\n",
    "回帰とは，目的変数が連続値のものを扱う枠組みである．\n",
    "例えば，Kaggleの初心者向けのタスクとして，「住宅の値段の予測」がある．\n",
    "住宅の値段は連続値なので，回帰のタスクとみなせる．\n",
    "`regression`問題の最後に，実際に住宅の値段の予測問題を解くことになるが，ここではその準備として，l2正則化最小二乗学習を学ぶ．\n",
    "本当に理解するためには，数学的知識が必要になるので，その前にソフトウェア（ライブラリ）を使って解く練習をし，興味があれば理論に立ち入ってもらいたいと思う．"
   ]
  },
  {
   "cell_type": "code",
   "execution_count": 3,
   "metadata": {},
   "outputs": [],
   "source": [
    "import numpy as np"
   ]
  },
  {
   "cell_type": "markdown",
   "metadata": {},
   "source": [
    "区間$[-1, 1]$をn当分したものを変数`x`に代入せよ．"
   ]
  },
  {
   "cell_type": "code",
   "execution_count": null,
   "metadata": {},
   "outputs": [],
   "source": []
  },
  {
   "cell_type": "markdown",
   "metadata": {},
   "source": [
    "真の関数$f(x) = x$に平均$\\mu=0$, 標準偏差$\\sigma=0.1$の正規分布から生成されるノイズを混ぜたものを`x`に適用し，`y_observed`に代入せよ．また，真の関数を`x`に適用したものをyに代入せよ．"
   ]
  },
  {
   "cell_type": "code",
   "execution_count": null,
   "metadata": {},
   "outputs": [],
   "source": []
  },
  {
   "cell_type": "markdown",
   "metadata": {},
   "source": [
    "`y`をplotし，`y_observed`をscatterプロットせよ"
   ]
  },
  {
   "cell_type": "code",
   "execution_count": null,
   "metadata": {},
   "outputs": [],
   "source": []
  },
  {
   "cell_type": "markdown",
   "metadata": {},
   "source": [
    "`sklearn.linear_model.Ridge`を，`x`と`y_observed`から学習させ，予測値`y_pred`を生成せよ．"
   ]
  },
  {
   "cell_type": "code",
   "execution_count": null,
   "metadata": {},
   "outputs": [],
   "source": []
  },
  {
   "cell_type": "markdown",
   "metadata": {},
   "source": [
    "`y_pred`をplotし，`y_observed`をscatterプロットせよ．また，上のプロットと比較せよ"
   ]
  },
  {
   "cell_type": "markdown",
   "metadata": {},
   "source": [
    "**ここから下は高度な内容を含むため，まずは自分で調べて，わからなかったら指導員に聞いてください．**"
   ]
  },
  {
   "cell_type": "code",
   "execution_count": null,
   "metadata": {},
   "outputs": [],
   "source": []
  },
  {
   "cell_type": "markdown",
   "metadata": {},
   "source": [
    "`sklearn.linear_model.Ridge`は線形モデルをl2正則化最小二乗学習を使って学習させるというclassである．\n",
    "線形モデルの式を書け．"
   ]
  },
  {
   "cell_type": "markdown",
   "metadata": {},
   "source": []
  },
  {
   "cell_type": "markdown",
   "metadata": {},
   "source": [
    "モデルを一般的な関数$f_w$として，l2正則化最小二乗学習の目的関数を書け．"
   ]
  },
  {
   "cell_type": "markdown",
   "metadata": {},
   "source": []
  },
  {
   "cell_type": "markdown",
   "metadata": {},
   "source": [
    "二乗誤差を最小化するのが，最小二乗学習だが，その意味を考えよ．"
   ]
  },
  {
   "cell_type": "code",
   "execution_count": null,
   "metadata": {},
   "outputs": [],
   "source": []
  },
  {
   "cell_type": "markdown",
   "metadata": {},
   "source": [
    "正則化をする意味を考えよ．"
   ]
  },
  {
   "cell_type": "code",
   "execution_count": null,
   "metadata": {},
   "outputs": [],
   "source": []
  },
  {
   "cell_type": "markdown",
   "metadata": {},
   "source": [
    "自分の身のまわりで，この種の問題として扱えそうな問題を列挙せよ"
   ]
  },
  {
   "cell_type": "code",
   "execution_count": null,
   "metadata": {},
   "outputs": [],
   "source": []
  }
 ],
 "metadata": {
  "kernelspec": {
   "display_name": "Python 3",
   "language": "python",
   "name": "python3"
  },
  "language_info": {
   "codemirror_mode": {
    "name": "ipython",
    "version": 3
   },
   "file_extension": ".py",
   "mimetype": "text/x-python",
   "name": "python",
   "nbconvert_exporter": "python",
   "pygments_lexer": "ipython3",
   "version": "3.6.6"
  }
 },
 "nbformat": 4,
 "nbformat_minor": 2
}
